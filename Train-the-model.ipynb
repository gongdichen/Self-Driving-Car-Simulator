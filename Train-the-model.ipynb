{
 "cells": [
  {
   "cell_type": "code",
   "execution_count": 66,
   "metadata": {
    "collapsed": false
   },
   "outputs": [],
   "source": [
    "import math\n",
    "import os\n",
    "\n",
    "import matplotlib.pyplot as plt\n",
    "import matplotlib.image as mpimg\n",
    "import numpy as np\n",
    "import pandas as pd\n",
    "import cv2\n",
    "from sklearn.metrics import confusion_matrix\n",
    "from sklearn.model_selection import train_test_split\n",
    "import tensorflow as tf\n",
    "\n",
    "%matplotlib inline"
   ]
  },
  {
   "cell_type": "code",
   "execution_count": 67,
   "metadata": {
    "collapsed": false
   },
   "outputs": [
    {
     "data": {
      "text/html": [
       "<div>\n",
       "<table border=\"1\" class=\"dataframe\">\n",
       "  <thead>\n",
       "    <tr style=\"text-align: right;\">\n",
       "      <th></th>\n",
       "      <th>center</th>\n",
       "      <th>angle</th>\n",
       "    </tr>\n",
       "  </thead>\n",
       "  <tbody>\n",
       "    <tr>\n",
       "      <th>0</th>\n",
       "      <td>/Users/lacho/sdcnd/Self-Driving-Car-Simulator/...</td>\n",
       "      <td>0.000000</td>\n",
       "    </tr>\n",
       "    <tr>\n",
       "      <th>1</th>\n",
       "      <td>/Users/lacho/sdcnd/Self-Driving-Car-Simulator/...</td>\n",
       "      <td>0.000000</td>\n",
       "    </tr>\n",
       "    <tr>\n",
       "      <th>2</th>\n",
       "      <td>/Users/lacho/sdcnd/Self-Driving-Car-Simulator/...</td>\n",
       "      <td>0.000000</td>\n",
       "    </tr>\n",
       "    <tr>\n",
       "      <th>3</th>\n",
       "      <td>/Users/lacho/sdcnd/Self-Driving-Car-Simulator/...</td>\n",
       "      <td>-0.088554</td>\n",
       "    </tr>\n",
       "    <tr>\n",
       "      <th>4</th>\n",
       "      <td>/Users/lacho/sdcnd/Self-Driving-Car-Simulator/...</td>\n",
       "      <td>-0.382704</td>\n",
       "    </tr>\n",
       "  </tbody>\n",
       "</table>\n",
       "</div>"
      ],
      "text/plain": [
       "                                              center     angle\n",
       "0  /Users/lacho/sdcnd/Self-Driving-Car-Simulator/...  0.000000\n",
       "1  /Users/lacho/sdcnd/Self-Driving-Car-Simulator/...  0.000000\n",
       "2  /Users/lacho/sdcnd/Self-Driving-Car-Simulator/...  0.000000\n",
       "3  /Users/lacho/sdcnd/Self-Driving-Car-Simulator/... -0.088554\n",
       "4  /Users/lacho/sdcnd/Self-Driving-Car-Simulator/... -0.382704"
      ]
     },
     "execution_count": 67,
     "metadata": {},
     "output_type": "execute_result"
    }
   ],
   "source": [
    "df = pd.read_csv(\"train.csv\")\n",
    "df.head()"
   ]
  },
  {
   "cell_type": "code",
   "execution_count": 68,
   "metadata": {
    "collapsed": false
   },
   "outputs": [],
   "source": [
    "# df['use'] = np.random.randint(0,11, size=df.shape[0]) > 7\n",
    "# df = df[df.use | df.angle != 0]"
   ]
  },
  {
   "cell_type": "code",
   "execution_count": 69,
   "metadata": {
    "collapsed": false
   },
   "outputs": [
    {
     "name": "stdout",
     "output_type": "stream",
     "text": [
      "0.506853688647\n",
      "-1.0 1.0\n"
     ]
    },
    {
     "data": {
      "image/png": "[encoded data removed]",
      "text/plain": [
       "<matplotlib.figure.Figure at 0x134f96ac8>"
      ]
     },
     "metadata": {},
     "output_type": "display_data"
    }
   ],
   "source": [
    "print(df.angle[df.angle != 0].count() / df.shape[0])\n",
    "print(df.angle.min(), df.angle.max())\n",
    "df.angle.plot(kind='hist', bins=31);"
   ]
  },
  {
   "cell_type": "code",
   "execution_count": 70,
   "metadata": {
    "collapsed": false
   },
   "outputs": [
    {
     "name": "stdout",
     "output_type": "stream",
     "text": [
      "train samples: 46982\n"
     ]
    }
   ],
   "source": [
    "print('train samples:', df.shape[0])"
   ]
  },
  {
   "cell_type": "code",
   "execution_count": 71,
   "metadata": {
    "collapsed": false
   },
   "outputs": [],
   "source": [
    "def load_img(path, resize=True, crop_top=20, crop_bottom=-1):\n",
    "    try:\n",
    "        img = cv2.imread(path)\n",
    "\n",
    "        if resize:\n",
    "            img = cv2.resize(img,(160, 80), interpolation = cv2.INTER_CUBIC)\n",
    "        if crop_top:\n",
    "            img = img[crop_top:crop_bottom, :] \n",
    "    except:\n",
    "        print(path)\n",
    "        raise\n",
    "    return img \n",
    "\n",
    "def ld_img(img):\n",
    "#     return load_img(img, resize=True, crop_top=30, crop_bottom=-10)\n",
    "#     return load_img(img, resize=False, crop_top=60, crop_bottom=-15)\n",
    "    return load_img(img, resize=False, crop_top=60, crop_bottom=-1)"
   ]
  },
  {
   "cell_type": "code",
   "execution_count": 72,
   "metadata": {
    "collapsed": false
   },
   "outputs": [],
   "source": [
    "def data_generator(df, batch_size=64, iterations=1000000):\n",
    "    for i in range(iterations):\n",
    "        s = df.sample(batch_size)\n",
    "        \n",
    "        imgs = np.array([ld_img(im) for im in s.center.values])\n",
    "        angles = s.angle.values\n",
    "        imgs[:int(batch_size/2)] = [np.fliplr(im) for im in imgs[:int(batch_size/2)]]\n",
    "        angles[:int(batch_size/2)] = -angles[:int(batch_size/2)]\n",
    "        yield (imgs, angles)\n",
    "\n",
    "def normalize(x):\n",
    "    return x / 255.0 - 0.5"
   ]
  },
  {
   "cell_type": "code",
   "execution_count": 73,
   "metadata": {
    "collapsed": false
   },
   "outputs": [],
   "source": [
    "from keras.datasets import mnist\n",
    "from keras.models import Sequential\n",
    "from keras.layers import Dense, Dropout, Activation, Flatten\n",
    "from keras.layers import Convolution2D, MaxPooling2D, Lambda\n",
    "from keras.layers.normalization import BatchNormalization\n",
    "from keras.utils import np_utils\n",
    "from keras.optimizers import Adam\n",
    "from keras import backend as K"
   ]
  },
  {
   "cell_type": "code",
   "execution_count": 74,
   "metadata": {
    "collapsed": false
   },
   "outputs": [
    {
     "name": "stdout",
     "output_type": "stream",
     "text": [
      "(99, 320, 3)\n",
      "____________________________________________________________________________________________________\n",
      "Layer (type)                     Output Shape          Param #     Connected to                     \n",
      "====================================================================================================\n",
      "lambda_12 (Lambda)               (None, 99, 320, 3)    0           lambda_input_12[0][0]            \n",
      "____________________________________________________________________________________________________\n",
      "convolution2d_32 (Convolution2D) (None, 48, 158, 16)   1216        lambda_12[0][0]                  \n",
      "____________________________________________________________________________________________________\n",
      "convolution2d_33 (Convolution2D) (None, 22, 39, 32)    12832       convolution2d_32[0][0]           \n",
      "____________________________________________________________________________________________________\n",
      "convolution2d_34 (Convolution2D) (None, 5, 5, 32)      25632       convolution2d_33[0][0]           \n",
      "____________________________________________________________________________________________________\n",
      "dropout_36 (Dropout)             (None, 5, 5, 32)      0           convolution2d_34[0][0]           \n",
      "____________________________________________________________________________________________________\n",
      "flatten_12 (Flatten)             (None, 800)           0           dropout_36[0][0]                 \n",
      "____________________________________________________________________________________________________\n",
      "dense_31 (Dense)                 (None, 128)           102528      flatten_12[0][0]                 \n",
      "____________________________________________________________________________________________________\n",
      "dropout_37 (Dropout)             (None, 128)           0           dense_31[0][0]                   \n",
      "____________________________________________________________________________________________________\n",
      "dense_32 (Dense)                 (None, 10)            1290        dropout_37[0][0]                 \n",
      "____________________________________________________________________________________________________\n",
      "dense_33 (Dense)                 (None, 1)             11          dense_32[0][0]                   \n",
      "====================================================================================================\n",
      "Total params: 143509\n",
      "____________________________________________________________________________________________________\n"
     ]
    }
   ],
   "source": [
    "img = ld_img(df.center.iloc[0])\n",
    "input_shape = img.shape\n",
    "print(input_shape)\n",
    "\n",
    "# \n",
    "# model.add(Activation('tanh'))\n",
    "# model.add(Dropout(0.5))\n",
    "\n",
    "model = Sequential()\n",
    "model.add(Lambda(normalize, input_shape=input_shape))\n",
    "model.add(Convolution2D(16, 5, 5, subsample=(2, 2), border_mode='valid', activation='elu'))\n",
    "model.add(Convolution2D(32, 5, 5, subsample=(2, 4), border_mode='valid', activation='elu'))\n",
    "model.add(Convolution2D(32, 5, 5, subsample=(4, 8), border_mode='valid', activation='elu'))\n",
    "model.add(Dropout(0.4))\n",
    "model.add(Flatten())\n",
    "model.add(Dense(128, activation='elu'))\n",
    "model.add(Dropout(0.4))\n",
    "model.add(Dense(10, activation='elu'))\n",
    "model.add(Dense(1))\n",
    "\n",
    "adam = Adam(lr=0.0001)\n",
    "\n",
    "model.compile(loss='mse',\n",
    "              optimizer=adam,\n",
    "              metrics=['mse'])\n",
    "\n",
    "model.summary()"
   ]
  },
  {
   "cell_type": "code",
   "execution_count": 75,
   "metadata": {
    "collapsed": false
   },
   "outputs": [],
   "source": [
    "import json\n",
    "\n",
    "def save_model(model, file_name='model'):\n",
    "    model.save_weights('{}.h5'.format(file_name))\n",
    "    with open('{}.json'.format(file_name), 'w') as file:\n",
    "        json.dump(model.to_json(), file)\n",
    "    print('model saved at', file_name)"
   ]
  },
  {
   "cell_type": "code",
   "execution_count": 81,
   "metadata": {
    "collapsed": false
   },
   "outputs": [
    {
     "name": "stdout",
     "output_type": "stream",
     "text": [
      "(44632, 2) (2350, 2)\n"
     ]
    }
   ],
   "source": [
    "df_train, df_test = train_test_split(df, test_size=0.05, random_state=3)\n",
    "df_train = df_train.copy()\n",
    "print(df_train.shape, df_test.shape)"
   ]
  },
  {
   "cell_type": "code",
   "execution_count": 82,
   "metadata": {
    "collapsed": false
   },
   "outputs": [
    {
     "name": "stdout",
     "output_type": "stream",
     "text": [
      "(26981, 3)\n"
     ]
    }
   ],
   "source": [
    "df_train['random'] = np.random.randint(0,10, df_train.shape[0])\n",
    "df_train = df_train[(df_train.angle != 0) | (df_train.random > 7)]\n",
    "print(df_train.shape)"
   ]
  },
  {
   "cell_type": "code",
   "execution_count": 86,
   "metadata": {
    "collapsed": false
   },
   "outputs": [
    {
     "name": "stdout",
     "output_type": "stream",
     "text": [
      "Epoch 1/10\n",
      "2688/2688 [==============================] - 30s - loss: 0.0799 - mean_squared_error: 0.0799 - val_loss: 0.0400 - val_mean_squared_error: 0.0400\n",
      "Epoch 2/10\n",
      "2688/2688 [==============================] - 34s - loss: 0.0827 - mean_squared_error: 0.0827 - val_loss: 0.0512 - val_mean_squared_error: 0.0512\n",
      "Epoch 3/10\n",
      "2688/2688 [==============================] - 33s - loss: 0.0758 - mean_squared_error: 0.0758 - val_loss: 0.0538 - val_mean_squared_error: 0.0538\n",
      "Epoch 4/10\n",
      "2688/2688 [==============================] - 36s - loss: 0.0783 - mean_squared_error: 0.0783 - val_loss: 0.0392 - val_mean_squared_error: 0.0392\n",
      "Epoch 5/10\n",
      "2688/2688 [==============================] - 30s - loss: 0.0736 - mean_squared_error: 0.0736 - val_loss: 0.0536 - val_mean_squared_error: 0.0536\n",
      "Epoch 6/10\n",
      "2688/2688 [==============================] - 52s - loss: 0.0741 - mean_squared_error: 0.0741 - val_loss: 0.0453 - val_mean_squared_error: 0.0453\n",
      "Epoch 7/10\n",
      "2688/2688 [==============================] - 50s - loss: 0.0689 - mean_squared_error: 0.0689 - val_loss: 0.0470 - val_mean_squared_error: 0.0470\n",
      "Epoch 8/10\n",
      "2688/2688 [==============================] - 36s - loss: 0.0691 - mean_squared_error: 0.0691 - val_loss: 0.0484 - val_mean_squared_error: 0.0484\n",
      "Epoch 9/10\n",
      "2688/2688 [==============================] - 33s - loss: 0.0702 - mean_squared_error: 0.0702 - val_loss: 0.0529 - val_mean_squared_error: 0.0529\n",
      "Epoch 10/10\n",
      "2688/2688 [==============================] - 33s - loss: 0.0668 - mean_squared_error: 0.0668 - val_loss: 0.0561 - val_mean_squared_error: 0.0561\n",
      "model saved at model\n"
     ]
    }
   ],
   "source": [
    "\n",
    "batch_size = 64\n",
    "samples = batch_size * int(df_train.shape[0] / batch_size / 10)\n",
    "epochs = 10\n",
    "\n",
    "history = model.fit_generator(data_generator(df_train, batch_size), \n",
    "                              validation_data=data_generator(df_test, batch_size), \n",
    "                              nb_val_samples=df_test.shape[0] /10,\n",
    "                              samples_per_epoch=samples, nb_epoch=epochs)\n",
    "save_model(model)"
   ]
  },
  {
   "cell_type": "code",
   "execution_count": 44,
   "metadata": {
    "collapsed": false
   },
   "outputs": [
    {
     "name": "stdout",
     "output_type": "stream",
     "text": [
      "model saved at model\n"
     ]
    }
   ],
   "source": [
    "save_model(model)"
   ]
  },
  {
   "cell_type": "code",
   "execution_count": 84,
   "metadata": {
    "collapsed": false
   },
   "outputs": [
    {
     "data": {
      "text/plain": [
       "{'loss': [0.27006505749055315,\n",
       "  0.1829855175954955,\n",
       "  0.16110731643580256,\n",
       "  0.1360884133194174,\n",
       "  0.12931195433650697,\n",
       "  0.11126858155642237,\n",
       "  0.11580062746292069,\n",
       "  0.10805851442828066,\n",
       "  0.1099702458651293,\n",
       "  0.095897691856537542],\n",
       " 'mean_squared_error': [0.27006505749055315,\n",
       "  0.1829855175954955,\n",
       "  0.16110731643580256,\n",
       "  0.1360884133194174,\n",
       "  0.12931195433650697,\n",
       "  0.11126858155642237,\n",
       "  0.11580062746292069,\n",
       "  0.10805851442828066,\n",
       "  0.1099702458651293,\n",
       "  0.095897691856537542],\n",
       " 'val_loss': [0.11993313394486904,\n",
       "  0.10155690275132656,\n",
       "  0.086702385917305946,\n",
       "  0.12166860327124596,\n",
       "  0.073379624634981155,\n",
       "  0.10328422486782074,\n",
       "  0.066233729477971792,\n",
       "  0.074403733015060425,\n",
       "  0.087562229484319687,\n",
       "  0.059810984414070845],\n",
       " 'val_mean_squared_error': [0.11993313394486904,\n",
       "  0.10155690275132656,\n",
       "  0.086702385917305946,\n",
       "  0.12166860327124596,\n",
       "  0.073379624634981155,\n",
       "  0.10328422486782074,\n",
       "  0.066233729477971792,\n",
       "  0.074403733015060425,\n",
       "  0.087562229484319687,\n",
       "  0.059810984414070845]}"
      ]
     },
     "execution_count": 84,
     "metadata": {},
     "output_type": "execute_result"
    }
   ],
   "source": [
    "history.history"
   ]
  },
  {
   "cell_type": "code",
   "execution_count": null,
   "metadata": {
    "collapsed": true
   },
   "outputs": [],
   "source": []
  }
 ],
 "metadata": {
  "anaconda-cloud": {},
  "kernelspec": {
   "display_name": "Python [Root]",
   "language": "python",
   "name": "Python [Root]"
  },
  "language_info": {
   "codemirror_mode": {
    "name": "ipython",
    "version": 3
   },
   "file_extension": ".py",
   "mimetype": "text/x-python",
   "name": "python",
   "nbconvert_exporter": "python",
   "pygments_lexer": "ipython3",
   "version": "3.5.2"
  }
 },
 "nbformat": 4,
 "nbformat_minor": 0
}
