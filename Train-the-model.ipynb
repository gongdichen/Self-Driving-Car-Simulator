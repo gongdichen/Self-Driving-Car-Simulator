{
 "cells": [
  {
   "cell_type": "code",
   "execution_count": 1,
   "metadata": {
    "collapsed": false
   },
   "outputs": [],
   "source": [
    "import math\n",
    "import os\n",
    "\n",
    "import matplotlib.pyplot as plt\n",
    "import matplotlib.image as mpimg\n",
    "import numpy as np\n",
    "import pandas as pd\n",
    "import cv2\n",
    "from sklearn.metrics import confusion_matrix\n",
    "from sklearn.model_selection import train_test_split\n",
    "import tensorflow as tf\n",
    "\n",
    "%matplotlib inline"
   ]
  },
  {
   "cell_type": "code",
   "execution_count": 2,
   "metadata": {
    "collapsed": false
   },
   "outputs": [
    {
     "data": {
      "text/html": [
       "<div>\n",
       "<table border=\"1\" class=\"dataframe\">\n",
       "  <thead>\n",
       "    <tr style=\"text-align: right;\">\n",
       "      <th></th>\n",
       "      <th>angle</th>\n",
       "      <th>center</th>\n",
       "    </tr>\n",
       "  </thead>\n",
       "  <tbody>\n",
       "    <tr>\n",
       "      <th>0</th>\n",
       "      <td>0.000000</td>\n",
       "      <td>/home/lacho/sdcnd/Self-Driving-Car-Simulator/m...</td>\n",
       "    </tr>\n",
       "    <tr>\n",
       "      <th>1</th>\n",
       "      <td>0.000000</td>\n",
       "      <td>/home/lacho/sdcnd/Self-Driving-Car-Simulator/m...</td>\n",
       "    </tr>\n",
       "    <tr>\n",
       "      <th>2</th>\n",
       "      <td>0.000000</td>\n",
       "      <td>/home/lacho/sdcnd/Self-Driving-Car-Simulator/m...</td>\n",
       "    </tr>\n",
       "    <tr>\n",
       "      <th>3</th>\n",
       "      <td>-0.088554</td>\n",
       "      <td>/home/lacho/sdcnd/Self-Driving-Car-Simulator/m...</td>\n",
       "    </tr>\n",
       "    <tr>\n",
       "      <th>4</th>\n",
       "      <td>-0.382704</td>\n",
       "      <td>/home/lacho/sdcnd/Self-Driving-Car-Simulator/m...</td>\n",
       "    </tr>\n",
       "  </tbody>\n",
       "</table>\n",
       "</div>"
      ],
      "text/plain": [
       "      angle                                             center\n",
       "0  0.000000  /home/lacho/sdcnd/Self-Driving-Car-Simulator/m...\n",
       "1  0.000000  /home/lacho/sdcnd/Self-Driving-Car-Simulator/m...\n",
       "2  0.000000  /home/lacho/sdcnd/Self-Driving-Car-Simulator/m...\n",
       "3 -0.088554  /home/lacho/sdcnd/Self-Driving-Car-Simulator/m...\n",
       "4 -0.382704  /home/lacho/sdcnd/Self-Driving-Car-Simulator/m..."
      ]
     },
     "execution_count": 2,
     "metadata": {},
     "output_type": "execute_result"
    }
   ],
   "source": [
    "df = pd.read_csv(\"train.csv\")\n",
    "df.head()"
   ]
  },
  {
   "cell_type": "code",
   "execution_count": 3,
   "metadata": {
    "collapsed": false
   },
   "outputs": [],
   "source": [
    "# df['use'] = np.random.randint(0,11, size=df.shape[0]) > 7\n",
    "# df = df[df.use | df.angle != 0]"
   ]
  },
  {
   "cell_type": "code",
   "execution_count": 4,
   "metadata": {
    "collapsed": false
   },
   "outputs": [
    {
     "name": "stdout",
     "output_type": "stream",
     "text": [
      "0.794219611647\n",
      "-1.0426954 1.1\n"
     ]
    },
    {
     "data": {
      "image/png": "[encoded data removed]",
      "text/plain": [
       "<matplotlib.figure.Figure at 0x7f7c40e39748>"
      ]
     },
     "metadata": {},
     "output_type": "display_data"
    }
   ],
   "source": [
    "print(df.angle[df.angle != 0].count() / df.shape[0])\n",
    "print(df.angle.min(), df.angle.max())\n",
    "df.angle.plot(kind='hist', bins=31);"
   ]
  },
  {
   "cell_type": "code",
   "execution_count": 5,
   "metadata": {
    "collapsed": false
   },
   "outputs": [
    {
     "name": "stdout",
     "output_type": "stream",
     "text": [
      "train samples: 55671\n"
     ]
    }
   ],
   "source": [
    "print('train samples:', df.shape[0])"
   ]
  },
  {
   "cell_type": "code",
   "execution_count": 6,
   "metadata": {
    "collapsed": false
   },
   "outputs": [],
   "source": [
    "def load_img(path, resize=True, crop_top=20, crop_bottom=-1):\n",
    "    try:\n",
    "        img = cv2.imread(path)\n",
    "        img = cv2.cvtColor(img, cv2.COLOR_BGR2RGB)\n",
    "\n",
    "        if resize:\n",
    "            img = cv2.resize(img,(160, 80), interpolation = cv2.INTER_CUBIC)\n",
    "        if crop_top:\n",
    "            img = img[crop_top:crop_bottom, :] \n",
    "    except:\n",
    "        print(path)\n",
    "        raise\n",
    "    return img \n",
    "\n",
    "def ld_img(img):\n",
    "#     return load_img(img, resize=True, crop_top=30, crop_bottom=-10)\n",
    "#     return load_img(img, resize=False, crop_top=60, crop_bottom=-15)\n",
    "    return load_img(img, resize=False, crop_top=60, crop_bottom=-1)"
   ]
  },
  {
   "cell_type": "code",
   "execution_count": 7,
   "metadata": {
    "collapsed": false
   },
   "outputs": [],
   "source": [
    "def data_generator(df, batch_size=64, iterations=1000000):\n",
    "    for i in range(iterations):\n",
    "        s = df.sample(batch_size)\n",
    "        \n",
    "        imgs = np.array([ld_img(im) for im in s.center.values])\n",
    "        angles = s.angle.values\n",
    "        imgs[:int(batch_size/2)] = [np.fliplr(im) for im in imgs[:int(batch_size/2)]]\n",
    "        angles[:int(batch_size/2)] = -angles[:int(batch_size/2)]\n",
    "        yield (imgs, angles)\n",
    "\n",
    "def normalize(x):\n",
    "    return x / 255.0 - 0.5"
   ]
  },
  {
   "cell_type": "code",
   "execution_count": 8,
   "metadata": {
    "collapsed": false
   },
   "outputs": [
    {
     "name": "stdout",
     "output_type": "stream",
     "text": [
      "(99, 320, 3)\n"
     ]
    }
   ],
   "source": [
    "img = ld_img(df.center.iloc[0])\n",
    "input_shape = img.shape\n",
    "print(input_shape)"
   ]
  },
  {
   "cell_type": "code",
   "execution_count": 9,
   "metadata": {
    "collapsed": false
   },
   "outputs": [
    {
     "name": "stderr",
     "output_type": "stream",
     "text": [
      "Using TensorFlow backend.\n"
     ]
    }
   ],
   "source": [
    "from keras.datasets import mnist\n",
    "from keras.models import Sequential\n",
    "from keras.layers import Dense, Dropout, Activation, Flatten\n",
    "from keras.layers import Convolution2D, MaxPooling2D, Lambda\n",
    "from keras.layers.normalization import BatchNormalization\n",
    "from keras.utils import np_utils\n",
    "from keras.optimizers import Adam\n",
    "from keras import backend as K"
   ]
  },
  {
   "cell_type": "code",
   "execution_count": 10,
   "metadata": {
    "collapsed": false
   },
   "outputs": [
    {
     "name": "stdout",
     "output_type": "stream",
     "text": [
      "____________________________________________________________________________________________________\n",
      "Layer (type)                     Output Shape          Param #     Connected to                     \n",
      "====================================================================================================\n",
      "lambda_1 (Lambda)                (None, 99, 320, 3)    0           lambda_input_1[0][0]             \n",
      "____________________________________________________________________________________________________\n",
      "convolution2d_1 (Convolution2D)  (None, 48, 158, 16)   1216        lambda_1[0][0]                   \n",
      "____________________________________________________________________________________________________\n",
      "convolution2d_2 (Convolution2D)  (None, 22, 77, 32)    12832       convolution2d_1[0][0]            \n",
      "____________________________________________________________________________________________________\n",
      "convolution2d_3 (Convolution2D)  (None, 9, 37, 64)     51264       convolution2d_2[0][0]            \n",
      "____________________________________________________________________________________________________\n",
      "convolution2d_4 (Convolution2D)  (None, 4, 18, 64)     36928       convolution2d_3[0][0]            \n",
      "____________________________________________________________________________________________________\n",
      "convolution2d_5 (Convolution2D)  (None, 1, 8, 64)      36928       convolution2d_4[0][0]            \n",
      "____________________________________________________________________________________________________\n",
      "flatten_1 (Flatten)              (None, 512)           0           convolution2d_5[0][0]            \n",
      "____________________________________________________________________________________________________\n",
      "dropout_1 (Dropout)              (None, 512)           0           flatten_1[0][0]                  \n",
      "____________________________________________________________________________________________________\n",
      "dense_1 (Dense)                  (None, 256)           131328      dropout_1[0][0]                  \n",
      "____________________________________________________________________________________________________\n",
      "dropout_2 (Dropout)              (None, 256)           0           dense_1[0][0]                    \n",
      "____________________________________________________________________________________________________\n",
      "dense_2 (Dense)                  (None, 10)            2570        dropout_2[0][0]                  \n",
      "____________________________________________________________________________________________________\n",
      "dense_3 (Dense)                  (None, 1)             11          dense_2[0][0]                    \n",
      "====================================================================================================\n",
      "Total params: 273,077\n",
      "Trainable params: 273,077\n",
      "Non-trainable params: 0\n",
      "____________________________________________________________________________________________________\n"
     ]
    }
   ],
   "source": [
    "\n",
    "\n",
    "# \n",
    "# model.add(Activation('tanh'))\n",
    "# model.add(Dropout(0.5))\n",
    "\n",
    "model = Sequential()\n",
    "model.add(Lambda(normalize, input_shape=input_shape))\n",
    "model.add(Convolution2D(16, 5, 5, subsample=(2, 2), border_mode='valid', activation='elu'))\n",
    "model.add(Convolution2D(32, 5, 5, subsample=(2, 2), border_mode='valid', activation='elu'))\n",
    "model.add(Convolution2D(64, 5, 5, subsample=(2, 2), border_mode='valid', activation='elu'))\n",
    "model.add(Convolution2D(64, 3, 3, subsample=(2, 2), border_mode='valid', activation='elu'))\n",
    "model.add(Convolution2D(64, 3, 3, subsample=(2, 2), border_mode='valid', activation='elu'))\n",
    "model.add(Flatten())\n",
    "model.add(Dropout(0.5))\n",
    "model.add(Dense(256, activation='elu'))\n",
    "model.add(Dropout(0.5))\n",
    "model.add(Dense(10, activation='elu'))\n",
    "model.add(Dense(1))\n",
    "\n",
    "adam = Adam(lr=0.0001)\n",
    "model.compile(loss='mse', optimizer=adam)\n",
    "model.summary()"
   ]
  },
  {
   "cell_type": "code",
   "execution_count": 10,
   "metadata": {
    "collapsed": false
   },
   "outputs": [],
   "source": [
    "import json\n",
    "\n",
    "def save_model(model, file_name='model'):\n",
    "    model.save_weights('{}.h5'.format(file_name))\n",
    "    with open('{}.json'.format(file_name), 'w') as file:\n",
    "        json.dump(model.to_json(), file)\n",
    "    print('model saved at', file_name)\n",
    "    \n",
    "    "
   ]
  },
  {
   "cell_type": "code",
   "execution_count": 11,
   "metadata": {
    "collapsed": false
   },
   "outputs": [],
   "source": [
    "from keras.models import model_from_json\n",
    "with open('model.json', 'r') as jfile:\n",
    "        model = model_from_json(json.load(jfile))\n",
    "\n",
    "model.compile(\"adam\", \"mse\")\n",
    "model.load_weights('model.h5')\n"
   ]
  },
  {
   "cell_type": "code",
   "execution_count": 12,
   "metadata": {
    "collapsed": false
   },
   "outputs": [
    {
     "name": "stdout",
     "output_type": "stream",
     "text": [
      "(52887, 2) (2784, 2)\n"
     ]
    }
   ],
   "source": [
    "df_train, df_test = train_test_split(df, test_size=0.05, random_state=3)\n",
    "df_train = df_train.copy()\n",
    "print(df_train.shape, df_test.shape)"
   ]
  },
  {
   "cell_type": "code",
   "execution_count": 13,
   "metadata": {
    "collapsed": false
   },
   "outputs": [
    {
     "name": "stdout",
     "output_type": "stream",
     "text": [
      "(46414, 3)\n"
     ]
    }
   ],
   "source": [
    "df_train['random'] = np.random.randint(0,10, df_train.shape[0])\n",
    "df_train = df_train[(df_train.angle != 0) | (df_train.random > 5)]\n",
    "print(df_train.shape)"
   ]
  },
  {
   "cell_type": "code",
   "execution_count": 15,
   "metadata": {
    "collapsed": false
   },
   "outputs": [
    {
     "name": "stdout",
     "output_type": "stream",
     "text": [
      "Epoch 1/5\n",
      "46336/46336 [==============================] - 72s - loss: 0.0209 - val_loss: 0.0146\n",
      "Epoch 2/5\n",
      "46336/46336 [==============================] - 70s - loss: 0.0202 - val_loss: 0.0178\n",
      "Epoch 3/5\n",
      "46336/46336 [==============================] - 72s - loss: 0.0200 - val_loss: 0.0179\n",
      "Epoch 4/5\n",
      "46336/46336 [==============================] - 73s - loss: 0.0195 - val_loss: 0.0158\n",
      "Epoch 5/5\n",
      "46336/46336 [==============================] - 72s - loss: 0.0197 - val_loss: 0.0140\n",
      "model saved at model\n"
     ]
    }
   ],
   "source": [
    "\n",
    "batch_size = 256\n",
    "samples = batch_size * int(df_train.shape[0] / batch_size)\n",
    "epochs = 5\n",
    "\n",
    "history = model.fit_generator(data_generator(df_train, batch_size), \n",
    "                              validation_data=data_generator(df_test, batch_size), \n",
    "                              nb_val_samples=df_test.shape[0],\n",
    "                              samples_per_epoch=samples, nb_epoch=epochs)\n",
    "save_model(model)"
   ]
  },
  {
   "cell_type": "code",
   "execution_count": 16,
   "metadata": {
    "collapsed": false
   },
   "outputs": [
    {
     "name": "stdout",
     "output_type": "stream",
     "text": [
      "model saved at model_20\n"
     ]
    }
   ],
   "source": [
    "save_model(model, 'model_20')"
   ]
  },
  {
   "cell_type": "code",
   "execution_count": 16,
   "metadata": {
    "collapsed": false
   },
   "outputs": [
    {
     "data": {
      "text/plain": [
       "{'loss': [0.075493327362669838,\n",
       "  0.046524371144672234,\n",
       "  0.04412947881759869,\n",
       "  0.041899705802400905,\n",
       "  0.04025818801795443],\n",
       " 'val_loss': [0.04109756276011467,\n",
       "  0.035536228594454849,\n",
       "  0.041046616028655662,\n",
       "  0.03070858239450238,\n",
       "  0.032529001208868896]}"
      ]
     },
     "execution_count": 16,
     "metadata": {},
     "output_type": "execute_result"
    }
   ],
   "source": [
    "history.history"
   ]
  },
  {
   "cell_type": "code",
   "execution_count": null,
   "metadata": {
    "collapsed": true
   },
   "outputs": [],
   "source": []
  }
 ],
 "metadata": {
  "anaconda-cloud": {},
  "kernelspec": {
   "display_name": "Python [conda root]",
   "language": "python",
   "name": "conda-root-py"
  },
  "language_info": {
   "codemirror_mode": {
    "name": "ipython",
    "version": 3
   },
   "file_extension": ".py",
   "mimetype": "text/x-python",
   "name": "python",
   "nbconvert_exporter": "python",
   "pygments_lexer": "ipython3",
   "version": "3.5.2"
  }
 },
 "nbformat": 4,
 "nbformat_minor": 0
}
